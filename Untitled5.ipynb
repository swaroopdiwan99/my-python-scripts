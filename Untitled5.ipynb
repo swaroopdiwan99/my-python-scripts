{
 "cells": [
  {
   "cell_type": "code",
   "execution_count": 5,
   "id": "7345fa3e-05d5-4512-b0b7-d56140bc5967",
   "metadata": {},
   "outputs": [
    {
     "name": "stdin",
     "output_type": "stream",
     "text": [
      "Please Enter The Number Of Pens 2000\n",
      "Please Enter The Rate Of The One Pen 40\n"
     ]
    },
    {
     "name": "stdout",
     "output_type": "stream",
     "text": [
      "72000.0\n"
     ]
    }
   ],
   "source": [
    "qty=int(input(\"Please Enter The Number Of Pens\"))\n",
    "price=float(input(\"Please Enter The Rate Of The One Pen\"))\n",
    "if(qty>=1000):\n",
    "    d=10;\n",
    "    total=(price*qty)-(price*qty*(d*1/100));\n",
    "else:\n",
    "    total=price*qty;\n",
    "print(total)"
   ]
  },
  {
   "cell_type": "code",
   "execution_count": 10,
   "id": "f40fb8e9-d6a5-4731-88c3-a6b1bb23609d",
   "metadata": {},
   "outputs": [
    {
     "name": "stdin",
     "output_type": "stream",
     "text": [
      "Please Enter The Year 2025\n",
      "Please Enter The Year Of The Joining 2023\n"
     ]
    },
    {
     "name": "stdout",
     "output_type": "stream",
     "text": [
      "You haven't receieved an extra amount of 1000000\n"
     ]
    }
   ],
   "source": [
    "year=int(input(\"Please Enter The Year\"))\n",
    "j=int(input(\"Please Enter The Year Of The Joining\"))\n",
    "if(year-j>3):\n",
    "    print(\"Congrats you are receiving the extra amount of Rs1000000\")\n",
    "else:\n",
    "    print(\"You haven't receieved an extra amount of 1000000\")"
   ]
  },
  {
   "cell_type": "code",
   "execution_count": 16,
   "id": "95eb3a75-7b57-4ecd-b5e6-7bd8262b7cdf",
   "metadata": {},
   "outputs": [
    {
     "name": "stdin",
     "output_type": "stream",
     "text": [
      "Please Enter The Selling Price 1000\n",
      "Please Enter The Cost Price 500\n"
     ]
    },
    {
     "name": "stdout",
     "output_type": "stream",
     "text": [
      "You Have been Profited 500\n"
     ]
    }
   ],
   "source": [
    "sp=int(input(\"Please Enter The Selling Price\"))\n",
    "cp=int(input(\"Please Enter The Cost Price\"))\n",
    "if(sp-cp>0):\n",
    "    print(\"You Have been Profited\",sp-cp)\n",
    "else:\n",
    "    print(\"LOSS!\",sp-cp)"
   ]
  },
  {
   "cell_type": "code",
   "execution_count": 20,
   "id": "e52f485c-7392-4733-bed6-cf0b55b91cf5",
   "metadata": {},
   "outputs": [
    {
     "name": "stdin",
     "output_type": "stream",
     "text": [
      "Please Enter The Number 99\n"
     ]
    },
    {
     "name": "stdout",
     "output_type": "stream",
     "text": [
      "ODD!\n"
     ]
    }
   ],
   "source": [
    "number=int(input(\"Please Enter The Number\"))\n",
    "if(number%2==0):\n",
    "    print(\"The Number Which Is Entered By You Is An Even Number!\")\n",
    "else:\n",
    "    print(\"ODD!\")"
   ]
  },
  {
   "cell_type": "code",
   "execution_count": 25,
   "id": "208015f3-a4c3-440f-8893-0632d09a9c23",
   "metadata": {},
   "outputs": [
    {
     "name": "stdin",
     "output_type": "stream",
     "text": [
      "Year: 2025\n"
     ]
    },
    {
     "name": "stdout",
     "output_type": "stream",
     "text": [
      "The Year Isn't Leap Year\n"
     ]
    }
   ],
   "source": [
    "y=int(input(\"Year:\"))\n",
    "if(y%4==0 or y%100==0):\n",
    "    print(\"The Year Is The Leap Year\")\n",
    "else:\n",
    "    print(\"The Year Isn't Leap Year\")"
   ]
  },
  {
   "cell_type": "code",
   "execution_count": 37,
   "id": "ff2c6460-d593-4618-8b27-57f5fe341f50",
   "metadata": {},
   "outputs": [
    {
     "name": "stdin",
     "output_type": "stream",
     "text": [
      "Please Enter The Number 1234\n"
     ]
    },
    {
     "name": "stdout",
     "output_type": "stream",
     "text": [
      "INVALID!\n"
     ]
    }
   ],
   "source": [
    "num=int(input(\"Please Enter The Number\"))\n",
    "rev=0\n",
    "while(num!=0):\n",
    "    rem=num%10\n",
    "    rev=rem*10+rem\n",
    "    num=num//10\n",
    "if(num==rev):\n",
    "    print(\"Ok!\")\n",
    "else:\n",
    "    print(\"INVALID!\")"
   ]
  },
  {
   "cell_type": "code",
   "execution_count": 41,
   "id": "8cbfa10c-cdb3-45ae-8804-db53c8e5adb7",
   "metadata": {},
   "outputs": [
    {
     "name": "stdin",
     "output_type": "stream",
     "text": [
      "Please Enter The Ages Of The Ram 10\n",
      "Please Enter The Ages Of The Shyam 12\n",
      "Please Enter The Ages Of The Ulhas 14\n"
     ]
    },
    {
     "name": "stdout",
     "output_type": "stream",
     "text": [
      "youngest=RAM\n"
     ]
    }
   ],
   "source": [
    "a=int(input(\"Please Enter The Ages Of The Ram\"))\n",
    "b=int(input(\"Please Enter The Ages Of The Shyam\"))\n",
    "c=int(input(\"Please Enter The Ages Of The Ulhas\"))\n",
    "if(a<b and c):\n",
    "    print(\"youngest=RAM\")\n",
    "elif(b<c and a):\n",
    "    print(\"youngest=SHYAM\")\n",
    "else:\n",
    "    print(\"youngest=Ulhas\")     "
   ]
  },
  {
   "cell_type": "code",
   "execution_count": 44,
   "id": "860248de-2249-433e-aca2-93db47f2b516",
   "metadata": {},
   "outputs": [
    {
     "name": "stdin",
     "output_type": "stream",
     "text": [
      "Please Enter The Angle 60\n",
      "Please Enter The Angle 56\n",
      "Please Enter The Angle 85\n"
     ]
    },
    {
     "name": "stdout",
     "output_type": "stream",
     "text": [
      "INVALID!\n"
     ]
    }
   ],
   "source": [
    "q=int(input(\"Please Enter The Angle\"))\n",
    "z=int(input(\"Please Enter The Angle\"))\n",
    "k=int(input(\"Please Enter The Angle\"))\n",
    "if(q+z+k==180):\n",
    "    print(\"VALID!\")\n",
    "else:\n",
    "    print(\"INVALID!\")"
   ]
  },
  {
   "cell_type": "code",
   "execution_count": 45,
   "id": "6825e8ac-8104-4030-8b2c-5e63b8947d6b",
   "metadata": {},
   "outputs": [
    {
     "name": "stdin",
     "output_type": "stream",
     "text": [
      "Please Enter The Number Whoose Abs Value Is To Be Calcculated 12\n"
     ]
    },
    {
     "name": "stdout",
     "output_type": "stream",
     "text": [
      "12\n"
     ]
    }
   ],
   "source": [
    "q=int(input(\"Please Enter The Number Whoose Abs Value Is To Be Calcculated\"))\n",
    "print(abs(q))"
   ]
  },
  {
   "cell_type": "code",
   "execution_count": null,
   "id": "83948fde-13d1-420a-8a8d-cbad8dd9521a",
   "metadata": {},
   "outputs": [],
   "source": []
  },
  {
   "cell_type": "code",
   "execution_count": 47,
   "id": "db775264-fa64-4cbf-b516-2efc3e3a9b15",
   "metadata": {},
   "outputs": [
    {
     "name": "stdin",
     "output_type": "stream",
     "text": [
      "Please Enter The B: 5\n",
      "Please Enter The L: 4\n"
     ]
    },
    {
     "name": "stdout",
     "output_type": "stream",
     "text": [
      "The Area Of The Rectangle is Greater Than The Peri\n"
     ]
    }
   ],
   "source": [
    "b=int(input(\"Please Enter The B:\"))\n",
    "l=int(input(\"Please Enter The L:\"))\n",
    "if(l*b>l+b):\n",
    "    print(\"The Area Of The Rectangle is Greater Than The Peri\")\n",
    "else:\n",
    "    print(\"The Area Of The Rectangle is Greater Than The Peri\")"
   ]
  },
  {
   "cell_type": "code",
   "execution_count": 58,
   "id": "3a417371-40b0-48f0-93d5-ab6c2a00f6e6",
   "metadata": {},
   "outputs": [
    {
     "name": "stdin",
     "output_type": "stream",
     "text": [
      "Please Enter The va 1 0\n"
     ]
    },
    {
     "name": "stdout",
     "output_type": "stream",
     "text": [
      "x\n"
     ]
    }
   ],
   "source": [
    "x,y=map(float,input(\"Please Enter The va\").split())\n",
    "if(x==0 and y==0):\n",
    "    print(\"ORIGIN\")\n",
    "elif(y==0):\n",
    "    print(\"x\")\n",
    "elif(x==0):\n",
    "    print(\"y\")"
   ]
  },
  {
   "cell_type": "markdown",
   "id": "0cc410b6-ea45-4fb1-bebc-0cec3ce512ee",
   "metadata": {},
   "source": [
    "# Assistant\n",
    "The selected code is attempting to check if a number is a palindrome (reads the same forwards and backwards), but it contains a logic error. Here's a step-by-step explanation:\n",
    "\n",
    "1. `num=int(input(\"Please Enter The Number\"))` - This line prompts the user to enter a number and converts the input to an integer.\n",
    "\n",
    "2. `while(num!=0):` - This starts a loop that continues until `num` becomes zero.\n",
    "\n",
    "3. Inside the loop:\n",
    "   - `rem=num%10` - Gets the last digit of the number using modulo operation\n",
    "   - `rev=rem*10+rem` - This line has a logic error. It's trying to build the reversed number but incorrectly uses `rem` twice\n",
    "   - `num=num//10` - Removes the last digit from the number using integer division\n",
    "\n",
    "4. After the loop, the code compares `num` (which is now 0) with `rev` to check if the number is a palindrome.\n",
    "\n",
    "5. It prints \"Ok!\" if the condition is true, otherwise \"INVALID!\"\n",
    "\n",
    "The code has a critical flaw in the reversal logic and won't correctly identify palindromes."
   ]
  },
  {
   "cell_type": "code",
   "execution_count": 52,
   "id": "2c73646a-15bb-4751-b445-fbda973aa5eb",
   "metadata": {},
   "outputs": [
    {
     "name": "stdin",
     "output_type": "stream",
     "text": [
      "Enter x1 y1:  1 99\n",
      "Enter x2 y2:  2 98\n",
      "Enter x3 y3:  3 97\n"
     ]
    },
    {
     "name": "stdout",
     "output_type": "stream",
     "text": [
      "The points lie on the same straight line.\n"
     ]
    }
   ],
   "source": [
    "def are_points_collinear(x1, y1, x2, y2, x3, y3):\n",
    "    area = 0.5 * (x1*(y2 - y3) + x2*(y3 - y1) + x3*(y1 - y2))\n",
    "    return area == 0\n",
    "\n",
    "# Input\n",
    "x1, y1 = map(float, input(\"Enter x1 y1: \").split())\n",
    "x2, y2 = map(float, input(\"Enter x2 y2: \").split())\n",
    "x3, y3 = map(float, input(\"Enter x3 y3: \").split())\n",
    "\n",
    "if are_points_collinear(x1, y1, x2, y2, x3, y3):\n",
    "    print(\"The points lie on the same straight line.\")\n",
    "else:\n",
    "    print(\"The points do NOT lie on the same straight line.\")"
   ]
  },
  {
   "cell_type": "code",
   "execution_count": 31,
   "id": "33b23b4a-729e-4536-8f69-6e3ed752d990",
   "metadata": {},
   "outputs": [
    {
     "name": "stdin",
     "output_type": "stream",
     "text": [
      "Enter a year:  1700\n"
     ]
    },
    {
     "name": "stdout",
     "output_type": "stream",
     "text": [
      "January 1, 1700 falls on a Monday\n"
     ]
    }
   ],
   "source": [
    "def day_of_week_jan1(year):\n",
    "    # Reference: Jan 1, 1900 was Monday (day 1)\n",
    "    # Calculate days since reference date\n",
    "    \n",
    "    days = 0\n",
    "    \n",
    "    # Count days for each year from 1900 to year-1\n",
    "    for y in range(1900, year):\n",
    "        # Check if it's a leap year\n",
    "        if (y % 4 == 0 and y % 100 != 0) or (y % 400 == 0):\n",
    "            days += 366\n",
    "        else:\n",
    "            days += 365\n",
    "    \n",
    "    # Calculate day of week (0-6, where 0 is Sunday, 1 is Monday, etc.)\n",
    "    # Since Jan 1, 1900 was Monday (day 1), we add 1 to our calculation\n",
    "    day_of_week = (days + 1) % 7\n",
    "    \n",
    "    # Convert number to day name\n",
    "    days_names = [\"Sunday\", \"Monday\", \"Tuesday\", \"Wednesday\", \"Thursday\", \"Friday\", \"Saturday\"]\n",
    "    return days_names[day_of_week]\n",
    "\n",
    "# Get input from user\n",
    "year = int(input(\"Enter a year: \"))\n",
    "\n",
    "# Display result\n",
    "print(f\"January 1, {year} falls on a {day_of_week_jan1(year)}\")"
   ]
  }
 ],
 "metadata": {
  "kernelspec": {
   "display_name": "Python [conda env:base] *",
   "language": "python",
   "name": "conda-base-py"
  },
  "language_info": {
   "codemirror_mode": {
    "name": "ipython",
    "version": 3
   },
   "file_extension": ".py",
   "mimetype": "text/x-python",
   "name": "python",
   "nbconvert_exporter": "python",
   "pygments_lexer": "ipython3",
   "version": "3.12.4"
  }
 },
 "nbformat": 4,
 "nbformat_minor": 5
}
