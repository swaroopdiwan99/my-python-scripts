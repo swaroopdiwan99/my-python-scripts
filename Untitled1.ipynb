{
 "cells": [
  {
   "cell_type": "code",
   "execution_count": 4,
   "id": "eb2c1855-0369-4167-9195-0f49de6af688",
   "metadata": {},
   "outputs": [
    {
     "name": "stdin",
     "output_type": "stream",
     "text": [
      "Please Enter Salary Which Is Basic 99000\n"
     ]
    },
    {
     "name": "stdout",
     "output_type": "stream",
     "text": [
      "158400.0 is the gross income\n"
     ]
    }
   ],
   "source": [
    "basic=float(input(\"Please Enter Salary Which Is Basic\"))\n",
    "da=float(0.4*basic)\n",
    "hra=float(0.2*basic)\n",
    "gross=float(basic+da+hra)\n",
    "print(gross,\"is the gross income\")"
   ]
  },
  {
   "cell_type": "code",
   "execution_count": null,
   "id": "55ac0e93-5d3a-4061-9b4c-eea14b8fcfa1",
   "metadata": {},
   "outputs": [],
   "source": []
  },
  {
   "cell_type": "code",
   "execution_count": 8,
   "id": "b7dfc75e-47a1-4abb-8655-3b856fd6bb40",
   "metadata": {},
   "outputs": [
    {
     "name": "stdin",
     "output_type": "stream",
     "text": [
      "Please Enter The Distance Between Two Cities The In Kilometer 99000\n"
     ]
    },
    {
     "name": "stdout",
     "output_type": "stream",
     "text": [
      "The Distance Which Is Provided In Kilometer In Meters =  99.0 Feet =  30.17519903439363 Inches =  2.5145986421167335 Centimeter =  0.99\n"
     ]
    }
   ],
   "source": [
    "dist=int(input(\"Please Enter The Distance Between Two Cities The In Kilometer\"))\n",
    "meter=float(dist/1000)\n",
    "feet=float(dist/3280.84)\n",
    "inches=float(dist/39370.1)\n",
    "centimeters=float(dist/100000)\n",
    "print(\"The Distance Which Is Provided In Kilometer In Meters = \",meter,\"Feet = \",feet,\"Inches = \",inches,\"Centimeter = \",centimeters)"
   ]
  },
  {
   "cell_type": "code",
   "execution_count": null,
   "id": "6d847587-235f-43cf-84fb-23eface5aa51",
   "metadata": {},
   "outputs": [],
   "source": []
  },
  {
   "cell_type": "code",
   "execution_count": 12,
   "id": "1a1d0f04-70ea-4185-9c26-f282b4423402",
   "metadata": {},
   "outputs": [
    {
     "name": "stdout",
     "output_type": "stream",
     "text": [
      "Please Enter The Marks\n"
     ]
    },
    {
     "name": "stdin",
     "output_type": "stream",
     "text": [
      "m1 90\n",
      "physics 90\n",
      "m2 99\n",
      "fcs 99\n"
     ]
    },
    {
     "name": "stdout",
     "output_type": "stream",
     "text": [
      "The Percentage  94.5\n"
     ]
    }
   ],
   "source": [
    "print(\"Please Enter The Marks\")\n",
    "m1=float(input(\"m1\"))\n",
    "physics=float(input(\"physics\"))\n",
    "m2=float(input(\"m2\"))\n",
    "fcs=float(input(\"fcs\"))\n",
    "total=m1+physics+m2+fcs\n",
    "per=(total/400)*100\n",
    "print(\"The Percentage \",per)"
   ]
  },
  {
   "cell_type": "code",
   "execution_count": 14,
   "id": "2d3f0108-4eb2-41a5-a8de-235cc178ccc0",
   "metadata": {},
   "outputs": [
    {
     "name": "stdin",
     "output_type": "stream",
     "text": [
      "Please Enter The Number Whoose Factorial Is To Be Calsulate 3\n"
     ]
    },
    {
     "name": "stdout",
     "output_type": "stream",
     "text": [
      "The Factorial Of The Number Which Is Provide  6\n"
     ]
    }
   ],
   "source": [
    "n=int(input(\"Please Enter The Number Whoose Factorial Is To Be Calsulate\"))\n",
    "factorial=1\n",
    "if n<0:\n",
    "    print(0)\n",
    "elif n==1:\n",
    "    print(\"The Factorial \",1)\n",
    "else:\n",
    "    for i in range(2,n+1):\n",
    "        factorial*=i\n",
    "    print(\"The Factorial Of The Number Which Is Provide \",factorial)\n",
    "    "
   ]
  },
  {
   "cell_type": "code",
   "execution_count": 16,
   "id": "9ce281ac-8d4b-429b-8526-79667ce20d8c",
   "metadata": {},
   "outputs": [
    {
     "name": "stdin",
     "output_type": "stream",
     "text": [
      "Please Enter The Kramank 3\n"
     ]
    },
    {
     "ename": "UnboundLocalError",
     "evalue": "cannot access local variable 'factorial' where it is not associated with a value",
     "output_type": "error",
     "traceback": [
      "\u001b[1;31m---------------------------------------------------------------------------\u001b[0m",
      "\u001b[1;31mUnboundLocalError\u001b[0m                         Traceback (most recent call last)",
      "Cell \u001b[1;32mIn[16], line 9\u001b[0m\n\u001b[0;32m      7\u001b[0m     \u001b[38;5;28mprint\u001b[39m(\u001b[38;5;124m\"\u001b[39m\u001b[38;5;124mfail\u001b[39m\u001b[38;5;124m\"\u001b[39m)\n\u001b[0;32m      8\u001b[0m \u001b[38;5;28;01melse\u001b[39;00m:\n\u001b[1;32m----> 9\u001b[0m     \u001b[38;5;28mprint\u001b[39m(\u001b[38;5;124m\"\u001b[39m\u001b[38;5;124mFactorial=\u001b[39m\u001b[38;5;124m\"\u001b[39m,factorial(n))\n",
      "Cell \u001b[1;32mIn[16], line 4\u001b[0m, in \u001b[0;36mfactorial\u001b[1;34m(n)\u001b[0m\n\u001b[0;32m      2\u001b[0m \u001b[38;5;28;01mif\u001b[39;00m n\u001b[38;5;241m==\u001b[39m\u001b[38;5;241m0\u001b[39m:\n\u001b[0;32m      3\u001b[0m     \u001b[38;5;28;01mreturn\u001b[39;00m \u001b[38;5;241m1\u001b[39m\n\u001b[1;32m----> 4\u001b[0m factorial\u001b[38;5;241m=\u001b[39m\u001b[38;5;28mint\u001b[39m(factorial(n\u001b[38;5;241m-\u001b[39m\u001b[38;5;241m1\u001b[39m))\n",
      "\u001b[1;31mUnboundLocalError\u001b[0m: cannot access local variable 'factorial' where it is not associated with a value"
     ]
    }
   ],
   "source": [
    "def factorial(n):\n",
    "    if n==0:\n",
    "        return 1\n",
    "    else:\n",
    "        n*factorial(n-1)\n",
    "n=int(input(\"Please Enter The Kramank\"))\n",
    "if n<0:\n",
    "    print(\"fail\")\n",
    "else:\n",
    "    print(\"Factorial=\",factorial(n))"
   ]
  }
 ],
 "metadata": {
  "kernelspec": {
   "display_name": "Python 3 (ipykernel)",
   "language": "python",
   "name": "python3"
  },
  "language_info": {
   "codemirror_mode": {
    "name": "ipython",
    "version": 3
   },
   "file_extension": ".py",
   "mimetype": "text/x-python",
   "name": "python",
   "nbconvert_exporter": "python",
   "pygments_lexer": "ipython3",
   "version": "3.12.4"
  }
 },
 "nbformat": 4,
 "nbformat_minor": 5
}
