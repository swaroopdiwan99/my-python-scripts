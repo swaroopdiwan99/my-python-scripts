{
 "cells": [
  {
   "cell_type": "code",
   "execution_count": 13,
   "id": "efc220fd-671f-4cb6-a8a5-14b8bf0596e1",
   "metadata": {},
   "outputs": [
    {
     "name": "stdin",
     "output_type": "stream",
     "text": [
      "Enter The Number Which Is To Be Revers 123457897\n"
     ]
    },
    {
     "name": "stdout",
     "output_type": "stream",
     "text": [
      "Rev: 798754321\n"
     ]
    }
   ],
   "source": [
    "a=int(input(\"Enter The Number Which Is To Be Revers\"))\n",
    "\n",
    "rem=0\n",
    "while(a>0):\n",
    "    rem=rem*10+(a%10);\n",
    "    a=a//10;\n",
    "print(\"Rev:\",rem)"
   ]
  }
 ],
 "metadata": {
  "kernelspec": {
   "display_name": "Python [conda env:base] *",
   "language": "python",
   "name": "conda-base-py"
  },
  "language_info": {
   "codemirror_mode": {
    "name": "ipython",
    "version": 3
   },
   "file_extension": ".py",
   "mimetype": "text/x-python",
   "name": "python",
   "nbconvert_exporter": "python",
   "pygments_lexer": "ipython3",
   "version": "3.12.4"
  }
 },
 "nbformat": 4,
 "nbformat_minor": 5
}
